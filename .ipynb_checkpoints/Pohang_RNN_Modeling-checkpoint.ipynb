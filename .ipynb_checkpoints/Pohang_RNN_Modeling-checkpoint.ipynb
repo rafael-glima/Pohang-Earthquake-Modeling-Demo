{
 "cells": [
  {
   "cell_type": "code",
   "execution_count": 112,
   "metadata": {
    "collapsed": false
   },
   "outputs": [],
   "source": [
    "import numpy as np\n",
    "import matplotlib.pyplot as plt\n",
    "import pandas as pd\n",
    "import math\n",
    "from keras.models import Sequential\n",
    "from keras.layers import Dense\n",
    "from keras.layers import LSTM\n",
    "from sklearn.preprocessing import MinMaxScaler\n",
    "from sklearn.metrics import mean_squared_error\n",
    "from IntensityGrid import IntensityGrid\n",
    "\n"
   ]
  },
  {
   "cell_type": "code",
   "execution_count": 113,
   "metadata": {
    "collapsed": true
   },
   "outputs": [],
   "source": [
    "np.random.seed(2018)"
   ]
  },
  {
   "cell_type": "code",
   "execution_count": 114,
   "metadata": {
    "collapsed": false
   },
   "outputs": [],
   "source": [
    "seq = np.loadtxt('earthquake_seq.txt')\n",
    "mu = len(seq)/seq[-1]"
   ]
  },
  {
   "cell_type": "code",
   "execution_count": 115,
   "metadata": {
    "collapsed": true
   },
   "outputs": [],
   "source": [
    "marks = np.loadtxt('earthquake_mags.txt')"
   ]
  },
  {
   "cell_type": "code",
   "execution_count": 117,
   "metadata": {
    "collapsed": false
   },
   "outputs": [],
   "source": [
    "#scaler = MinMaxScaler(feature_range=(0,1))"
   ]
  },
  {
   "cell_type": "code",
   "execution_count": 102,
   "metadata": {
    "collapsed": false
   },
   "outputs": [
    {
     "ename": "ValueError",
     "evalue": "Expected 2D array, got 1D array instead:\narray=[ 3.753100e+04 -2.967100e+04  1.547900e+04  4.740000e+03  3.402000e+03\n -2.469900e+04  2.211000e+04  5.049900e+04 -2.318300e+05  2.712990e+05\n -9.621200e+04  5.333500e+04 -1.504080e+05  1.965250e+05 -2.404460e+05\n  2.063560e+05 -6.379000e+04 -5.490000e+02 -3.539000e+03 -4.690000e+02\n  8.210000e+02  6.458000e+03 -1.803500e+04  1.465100e+04 -2.330000e+03\n -1.521000e+03  1.025000e+03 -1.338000e+03  4.363000e+03 -9.508000e+03\n  1.046200e+04 -8.204000e+03  8.492000e+03 -2.719000e+03 -1.290700e+04\n  2.477300e+04 -3.358500e+04  3.114400e+04 -1.187600e+04  4.420000e+02\n -2.790000e+02  3.150000e+02  1.740000e+02 -9.370000e+02  8.070000e+02\n -2.220000e+02  5.680000e+02 -6.810000e+02 -4.000000e+02  5.100000e+01\n  9.470000e+02  1.428000e+03 -4.959000e+03  4.711000e+03 -8.330000e+02\n -2.880000e+02 -5.687000e+03  3.547730e+05 -6.480040e+05  1.322080e+05\n  4.438200e+04  4.606490e+05 -3.917150e+05 -1.516580e+05  4.325570e+05\n  2.651530e+05 -1.589315e+06  2.284269e+06 -2.585027e+06  2.180190e+06\n -7.081250e+05 -1.725140e+05  3.475000e+03  3.927000e+04  1.848540e+05\n -1.308530e+05  5.850000e+02  2.369060e+05 -6.959620e+05  1.469165e+06\n -2.513911e+06  2.235660e+06  7.283390e+05 -4.366166e+06  4.734279e+06\n -2.761488e+06  1.892401e+06 -1.053414e+06 -8.002520e+05  1.808600e+06\n -1.460311e+06  7.629490e+05  3.644000e+04 -1.161829e+06  2.127900e+06\n -2.104114e+06  8.878580e+05  3.246630e+05 -1.430690e+05 -3.801400e+05\n -7.632500e+04  8.325300e+05 -1.167736e+06  1.276008e+06 -1.155758e+06\n  8.950310e+05 -6.151780e+05 -5.213390e+05  1.491515e+06 -9.434260e+05\n  3.109070e+05 -1.744970e+05  1.000280e+05  2.523550e+05 -1.277845e+06\n  2.114391e+06 -2.339843e+06  1.997219e+06 -1.000530e+06  8.624100e+04\n  2.380290e+05 -8.223600e+04 -7.469600e+04  4.138070e+05 -1.188268e+06\n  1.221876e+06 -3.351080e+05 -1.657180e+05  4.595300e+04  1.871760e+05\n  2.304780e+05 -1.502715e+06  2.220783e+06 -1.967322e+06  1.211102e+06\n -1.998860e+05 -3.005180e+05  2.478090e+05 -9.853300e+04  3.413400e+04\n -4.970300e+04  5.557600e+04 -1.759400e+04 -1.161820e+05  3.151040e+05\n -6.994000e+04 -7.205980e+05  9.889640e+05 -5.526590e+05  3.896410e+05\n -8.829080e+05  1.047820e+06 -2.696810e+05 -4.203450e+05  3.584570e+05\n  7.040400e+04 -3.388030e+05  5.226470e+05 -5.889390e+05  6.661170e+05\n -1.430099e+06  2.014361e+06 -1.704942e+06  1.138482e+06 -3.461910e+05\n -5.273020e+05  8.192360e+05 -6.391400e+05  5.978690e+05 -5.892570e+05\n  3.225700e+05 -1.232450e+05  6.957900e+04  9.852200e+04 -2.419860e+05\n  7.995200e+05 -1.876212e+06  1.984338e+06 -1.126993e+06  6.137460e+05\n -1.226660e+05 -3.950180e+05  1.277400e+05  1.631400e+05  9.681500e+04\n -1.589820e+05  1.734210e+05].\nReshape your data either using array.reshape(-1, 1) if your data has a single feature or array.reshape(1, -1) if it contains a single sample.",
     "output_type": "error",
     "traceback": [
      "\u001b[0;31m---------------------------------------------------------------------------\u001b[0m",
      "\u001b[0;31mValueError\u001b[0m                                Traceback (most recent call last)",
      "\u001b[0;32m<ipython-input-102-907710996073>\u001b[0m in \u001b[0;36m<module>\u001b[0;34m()\u001b[0m\n\u001b[1;32m      1\u001b[0m \u001b[0mseq\u001b[0m \u001b[0;34m=\u001b[0m \u001b[0mnp\u001b[0m\u001b[0;34m.\u001b[0m\u001b[0mdiff\u001b[0m\u001b[0;34m(\u001b[0m\u001b[0mseq\u001b[0m\u001b[0;34m)\u001b[0m\u001b[0;34m\u001b[0m\u001b[0m\n\u001b[1;32m      2\u001b[0m \u001b[0;31m#seq = np.array(seq)\u001b[0m\u001b[0;34m\u001b[0m\u001b[0;34m\u001b[0m\u001b[0m\n\u001b[0;32m----> 3\u001b[0;31m \u001b[0mseq\u001b[0m \u001b[0;34m=\u001b[0m \u001b[0mscaler\u001b[0m\u001b[0;34m.\u001b[0m\u001b[0mfit_transform\u001b[0m\u001b[0;34m(\u001b[0m\u001b[0mseq\u001b[0m\u001b[0;34m,\u001b[0m\u001b[0my\u001b[0m\u001b[0;34m=\u001b[0m\u001b[0;32mNone\u001b[0m\u001b[0;34m)\u001b[0m\u001b[0;34m\u001b[0m\u001b[0m\n\u001b[0m",
      "\u001b[0;32m/usr/local/lib/python3.5/dist-packages/sklearn/base.py\u001b[0m in \u001b[0;36mfit_transform\u001b[0;34m(self, X, y, **fit_params)\u001b[0m\n\u001b[1;32m    515\u001b[0m         \u001b[0;32mif\u001b[0m \u001b[0my\u001b[0m \u001b[0;32mis\u001b[0m \u001b[0;32mNone\u001b[0m\u001b[0;34m:\u001b[0m\u001b[0;34m\u001b[0m\u001b[0m\n\u001b[1;32m    516\u001b[0m             \u001b[0;31m# fit method of arity 1 (unsupervised transformation)\u001b[0m\u001b[0;34m\u001b[0m\u001b[0;34m\u001b[0m\u001b[0m\n\u001b[0;32m--> 517\u001b[0;31m             \u001b[0;32mreturn\u001b[0m \u001b[0mself\u001b[0m\u001b[0;34m.\u001b[0m\u001b[0mfit\u001b[0m\u001b[0;34m(\u001b[0m\u001b[0mX\u001b[0m\u001b[0;34m,\u001b[0m \u001b[0;34m**\u001b[0m\u001b[0mfit_params\u001b[0m\u001b[0;34m)\u001b[0m\u001b[0;34m.\u001b[0m\u001b[0mtransform\u001b[0m\u001b[0;34m(\u001b[0m\u001b[0mX\u001b[0m\u001b[0;34m)\u001b[0m\u001b[0;34m\u001b[0m\u001b[0m\n\u001b[0m\u001b[1;32m    518\u001b[0m         \u001b[0;32melse\u001b[0m\u001b[0;34m:\u001b[0m\u001b[0;34m\u001b[0m\u001b[0m\n\u001b[1;32m    519\u001b[0m             \u001b[0;31m# fit method of arity 2 (supervised transformation)\u001b[0m\u001b[0;34m\u001b[0m\u001b[0;34m\u001b[0m\u001b[0m\n",
      "\u001b[0;32m/usr/local/lib/python3.5/dist-packages/sklearn/preprocessing/data.py\u001b[0m in \u001b[0;36mfit\u001b[0;34m(self, X, y)\u001b[0m\n\u001b[1;32m    306\u001b[0m         \u001b[0;31m# Reset internal state before fitting\u001b[0m\u001b[0;34m\u001b[0m\u001b[0;34m\u001b[0m\u001b[0m\n\u001b[1;32m    307\u001b[0m         \u001b[0mself\u001b[0m\u001b[0;34m.\u001b[0m\u001b[0m_reset\u001b[0m\u001b[0;34m(\u001b[0m\u001b[0;34m)\u001b[0m\u001b[0;34m\u001b[0m\u001b[0m\n\u001b[0;32m--> 308\u001b[0;31m         \u001b[0;32mreturn\u001b[0m \u001b[0mself\u001b[0m\u001b[0;34m.\u001b[0m\u001b[0mpartial_fit\u001b[0m\u001b[0;34m(\u001b[0m\u001b[0mX\u001b[0m\u001b[0;34m,\u001b[0m \u001b[0my\u001b[0m\u001b[0;34m)\u001b[0m\u001b[0;34m\u001b[0m\u001b[0m\n\u001b[0m\u001b[1;32m    309\u001b[0m \u001b[0;34m\u001b[0m\u001b[0m\n\u001b[1;32m    310\u001b[0m     \u001b[0;32mdef\u001b[0m \u001b[0mpartial_fit\u001b[0m\u001b[0;34m(\u001b[0m\u001b[0mself\u001b[0m\u001b[0;34m,\u001b[0m \u001b[0mX\u001b[0m\u001b[0;34m,\u001b[0m \u001b[0my\u001b[0m\u001b[0;34m=\u001b[0m\u001b[0;32mNone\u001b[0m\u001b[0;34m)\u001b[0m\u001b[0;34m:\u001b[0m\u001b[0;34m\u001b[0m\u001b[0m\n",
      "\u001b[0;32m/usr/local/lib/python3.5/dist-packages/sklearn/preprocessing/data.py\u001b[0m in \u001b[0;36mpartial_fit\u001b[0;34m(self, X, y)\u001b[0m\n\u001b[1;32m    332\u001b[0m \u001b[0;34m\u001b[0m\u001b[0m\n\u001b[1;32m    333\u001b[0m         X = check_array(X, copy=self.copy, warn_on_dtype=True,\n\u001b[0;32m--> 334\u001b[0;31m                         estimator=self, dtype=FLOAT_DTYPES)\n\u001b[0m\u001b[1;32m    335\u001b[0m \u001b[0;34m\u001b[0m\u001b[0m\n\u001b[1;32m    336\u001b[0m         \u001b[0mdata_min\u001b[0m \u001b[0;34m=\u001b[0m \u001b[0mnp\u001b[0m\u001b[0;34m.\u001b[0m\u001b[0mmin\u001b[0m\u001b[0;34m(\u001b[0m\u001b[0mX\u001b[0m\u001b[0;34m,\u001b[0m \u001b[0maxis\u001b[0m\u001b[0;34m=\u001b[0m\u001b[0;36m0\u001b[0m\u001b[0;34m)\u001b[0m\u001b[0;34m\u001b[0m\u001b[0m\n",
      "\u001b[0;32m/usr/local/lib/python3.5/dist-packages/sklearn/utils/validation.py\u001b[0m in \u001b[0;36mcheck_array\u001b[0;34m(array, accept_sparse, dtype, order, copy, force_all_finite, ensure_2d, allow_nd, ensure_min_samples, ensure_min_features, warn_on_dtype, estimator)\u001b[0m\n\u001b[1;32m    439\u001b[0m                     \u001b[0;34m\"Reshape your data either using array.reshape(-1, 1) if \"\u001b[0m\u001b[0;34m\u001b[0m\u001b[0m\n\u001b[1;32m    440\u001b[0m                     \u001b[0;34m\"your data has a single feature or array.reshape(1, -1) \"\u001b[0m\u001b[0;34m\u001b[0m\u001b[0m\n\u001b[0;32m--> 441\u001b[0;31m                     \"if it contains a single sample.\".format(array))\n\u001b[0m\u001b[1;32m    442\u001b[0m             \u001b[0marray\u001b[0m \u001b[0;34m=\u001b[0m \u001b[0mnp\u001b[0m\u001b[0;34m.\u001b[0m\u001b[0matleast_2d\u001b[0m\u001b[0;34m(\u001b[0m\u001b[0marray\u001b[0m\u001b[0;34m)\u001b[0m\u001b[0;34m\u001b[0m\u001b[0m\n\u001b[1;32m    443\u001b[0m             \u001b[0;31m# To ensure that array flags are maintained\u001b[0m\u001b[0;34m\u001b[0m\u001b[0;34m\u001b[0m\u001b[0m\n",
      "\u001b[0;31mValueError\u001b[0m: Expected 2D array, got 1D array instead:\narray=[ 3.753100e+04 -2.967100e+04  1.547900e+04  4.740000e+03  3.402000e+03\n -2.469900e+04  2.211000e+04  5.049900e+04 -2.318300e+05  2.712990e+05\n -9.621200e+04  5.333500e+04 -1.504080e+05  1.965250e+05 -2.404460e+05\n  2.063560e+05 -6.379000e+04 -5.490000e+02 -3.539000e+03 -4.690000e+02\n  8.210000e+02  6.458000e+03 -1.803500e+04  1.465100e+04 -2.330000e+03\n -1.521000e+03  1.025000e+03 -1.338000e+03  4.363000e+03 -9.508000e+03\n  1.046200e+04 -8.204000e+03  8.492000e+03 -2.719000e+03 -1.290700e+04\n  2.477300e+04 -3.358500e+04  3.114400e+04 -1.187600e+04  4.420000e+02\n -2.790000e+02  3.150000e+02  1.740000e+02 -9.370000e+02  8.070000e+02\n -2.220000e+02  5.680000e+02 -6.810000e+02 -4.000000e+02  5.100000e+01\n  9.470000e+02  1.428000e+03 -4.959000e+03  4.711000e+03 -8.330000e+02\n -2.880000e+02 -5.687000e+03  3.547730e+05 -6.480040e+05  1.322080e+05\n  4.438200e+04  4.606490e+05 -3.917150e+05 -1.516580e+05  4.325570e+05\n  2.651530e+05 -1.589315e+06  2.284269e+06 -2.585027e+06  2.180190e+06\n -7.081250e+05 -1.725140e+05  3.475000e+03  3.927000e+04  1.848540e+05\n -1.308530e+05  5.850000e+02  2.369060e+05 -6.959620e+05  1.469165e+06\n -2.513911e+06  2.235660e+06  7.283390e+05 -4.366166e+06  4.734279e+06\n -2.761488e+06  1.892401e+06 -1.053414e+06 -8.002520e+05  1.808600e+06\n -1.460311e+06  7.629490e+05  3.644000e+04 -1.161829e+06  2.127900e+06\n -2.104114e+06  8.878580e+05  3.246630e+05 -1.430690e+05 -3.801400e+05\n -7.632500e+04  8.325300e+05 -1.167736e+06  1.276008e+06 -1.155758e+06\n  8.950310e+05 -6.151780e+05 -5.213390e+05  1.491515e+06 -9.434260e+05\n  3.109070e+05 -1.744970e+05  1.000280e+05  2.523550e+05 -1.277845e+06\n  2.114391e+06 -2.339843e+06  1.997219e+06 -1.000530e+06  8.624100e+04\n  2.380290e+05 -8.223600e+04 -7.469600e+04  4.138070e+05 -1.188268e+06\n  1.221876e+06 -3.351080e+05 -1.657180e+05  4.595300e+04  1.871760e+05\n  2.304780e+05 -1.502715e+06  2.220783e+06 -1.967322e+06  1.211102e+06\n -1.998860e+05 -3.005180e+05  2.478090e+05 -9.853300e+04  3.413400e+04\n -4.970300e+04  5.557600e+04 -1.759400e+04 -1.161820e+05  3.151040e+05\n -6.994000e+04 -7.205980e+05  9.889640e+05 -5.526590e+05  3.896410e+05\n -8.829080e+05  1.047820e+06 -2.696810e+05 -4.203450e+05  3.584570e+05\n  7.040400e+04 -3.388030e+05  5.226470e+05 -5.889390e+05  6.661170e+05\n -1.430099e+06  2.014361e+06 -1.704942e+06  1.138482e+06 -3.461910e+05\n -5.273020e+05  8.192360e+05 -6.391400e+05  5.978690e+05 -5.892570e+05\n  3.225700e+05 -1.232450e+05  6.957900e+04  9.852200e+04 -2.419860e+05\n  7.995200e+05 -1.876212e+06  1.984338e+06 -1.126993e+06  6.137460e+05\n -1.226660e+05 -3.950180e+05  1.277400e+05  1.631400e+05  9.681500e+04\n -1.589820e+05  1.734210e+05].\nReshape your data either using array.reshape(-1, 1) if your data has a single feature or array.reshape(1, -1) if it contains a single sample."
     ]
    }
   ],
   "source": [
    "seq = np.diff(seq)\n",
    "#seq = np.array(seq)\n",
    "seq = scaler.fit_transform(seq)"
   ]
  },
  {
   "cell_type": "code",
   "execution_count": 91,
   "metadata": {
    "collapsed": true
   },
   "outputs": [],
   "source": [
    "Param_EXP = {'K1_Type': 'EXP','EXP_coeffs':[1.,1.]}"
   ]
  },
  {
   "cell_type": "code",
   "execution_count": 92,
   "metadata": {
    "collapsed": false
   },
   "outputs": [],
   "source": [
    "Intensity = IntensityGrid(Param_EXP,seq,0.4)"
   ]
  },
  {
   "cell_type": "code",
   "execution_count": 93,
   "metadata": {
    "collapsed": false
   },
   "outputs": [
    {
     "data": {
      "text/plain": [
       "{'grid': array([0.00000000e+00, 1.18665789e+00, 2.37331579e+00, ...,\n",
       "        2.25461440e+05, 2.25462627e+05, 2.25463813e+05]),\n",
       " 'intensitygrid': array([0.4       , 3.14715734, 1.23854149, ..., 0.4       , 0.4       ,\n",
       "        0.4       ])}"
      ]
     },
     "execution_count": 93,
     "metadata": {},
     "output_type": "execute_result"
    }
   ],
   "source": [
    "Intensity"
   ]
  },
  {
   "cell_type": "code",
   "execution_count": 94,
   "metadata": {
    "collapsed": false
   },
   "outputs": [
    {
     "data": {
      "text/plain": [
       "array([2.4, 2.1, 2. , 3.6, 3.5, 2.2, 2.1, 2.4, 2. , 2.6, 2.1, 2.1, 2.4,\n",
       "       2.2, 2. , 2.4, 2. , 2.3, 2.3, 2.1, 3.6, 2.5, 2. , 2.3, 2.5, 2.1,\n",
       "       2. , 2.4, 2.1, 2. , 2.1, 2.1, 2.1, 2. , 2.4, 2.1, 2.2, 2.3, 2. ,\n",
       "       2.1, 2.1, 2.2, 2.8, 2.2, 4.3, 2. , 2.4, 2.9, 2.2, 2.3, 2.6, 2.4,\n",
       "       2.5, 3.5, 2.9, 2.9, 2.8, 2.4, 2.4, 2.5, 3.6, 5.4, 2.6, 2.2, 2.7,\n",
       "       2.2, 2. , 2. , 2.5, 2.1, 2.2, 2.7, 2.2, 2. , 2.6, 2.5, 2.8, 2.7,\n",
       "       2.8, 2.1, 2.4, 2.5, 3.2, 2.6, 2.2, 3.2, 2.9, 2.1, 2.4, 2.1, 2.5,\n",
       "       2.6, 2.7, 2.6, 2. , 2.1, 2.7, 2.6, 2.8, 2.4, 2.5, 2.7, 2. , 2. ,\n",
       "       2.3, 2.4, 2.2, 2.1, 2.5, 2. , 2.1, 2.7, 3. , 2.9, 2. , 2.2, 2.1,\n",
       "       2.8, 2.1, 2.5, 3. , 2. , 2.4, 2.6, 2.1, 2.9, 3.2, 2.1, 2. , 2.2,\n",
       "       2. , 3.1, 2.2, 2.3, 2.4, 2.1, 2.1, 2.7, 2. , 2.2, 2.2, 2.5, 3.3,\n",
       "       2. , 2. , 2.2, 2. , 2.4, 2.9, 2.4, 2.1, 2. , 2.6, 2.2, 2. , 2.1,\n",
       "       2.1, 2.4, 3.2, 2.4, 2.3, 2.4, 2.2, 2.5, 2.3, 3.1, 2.1, 2.1, 2.4,\n",
       "       2. , 2.3, 2.9, 2.3, 2.6, 2.2, 2.6, 2.5, 2.6, 2. , 2.6, 2.6, 2.5,\n",
       "       2.8, 2.1, 2.7, 2.2, 2.1, 2.4, 2.2, 3.3, 2.5])"
      ]
     },
     "execution_count": 94,
     "metadata": {},
     "output_type": "execute_result"
    }
   ],
   "source": [
    "marks"
   ]
  },
  {
   "cell_type": "code",
   "execution_count": 95,
   "metadata": {
    "collapsed": false
   },
   "outputs": [],
   "source": [
    "EXP_Grid = IntensityGrid(Param_EXP,seq,mu)"
   ]
  },
  {
   "cell_type": "code",
   "execution_count": 96,
   "metadata": {
    "collapsed": true
   },
   "outputs": [],
   "source": [
    "grid = EXP_Grid['grid']"
   ]
  },
  {
   "cell_type": "code",
   "execution_count": 98,
   "metadata": {
    "collapsed": false
   },
   "outputs": [
    {
     "data": {
      "text/plain": [
       "[None, None]"
      ]
     },
     "execution_count": 98,
     "metadata": {},
     "output_type": "execute_result"
    },
    {
     "data": {
      "image/png": "[encoded data removed]",
      "text/plain": [
       "<matplotlib.figure.Figure at 0x7f898a46beb8>"
      ]
     },
     "metadata": {},
     "output_type": "display_data"
    }
   ],
   "source": [
    "plt.figure(figsize=(10,10))\n",
    "plt.plot(grid,EXP_Grid['intensitygrid'],'b-',linewidth=3)\n",
    "#plt.axis([0,8,0,2])\n",
    "ax = plt.gca()\n",
    "ax.set_yticks([])\n",
    "ax.set_xticks([])\n",
    "markerline, stemlines, baseline = plt.stem(seq, 0.5*mu*np.ones(len(seq)), 'k-')\n",
    "plt.setp(markerline, 'markerfacecolor','k')\n",
    "plt.setp(baseline, 'color','k', 'linewidth', 3)"
   ]
  },
  {
   "cell_type": "code",
   "execution_count": 108,
   "metadata": {
    "collapsed": false
   },
   "outputs": [],
   "source": []
  },
  {
   "cell_type": "code",
   "execution_count": 109,
   "metadata": {
    "collapsed": false
   },
   "outputs": [
    {
     "data": {
      "text/plain": [
       "MinMaxScaler(copy=True, feature_range=(0, 1))"
      ]
     },
     "execution_count": 109,
     "metadata": {},
     "output_type": "execute_result"
    }
   ],
   "source": []
  },
  {
   "cell_type": "code",
   "execution_count": 111,
   "metadata": {
    "collapsed": false
   },
   "outputs": [
    {
     "data": {
      "text/plain": [
       "[37531.0,\n",
       " -29671.0,\n",
       " 15479.0,\n",
       " 4740.0,\n",
       " 3402.0,\n",
       " -24699.0,\n",
       " 22110.0,\n",
       " 50499.0,\n",
       " -231830.0,\n",
       " 271299.0,\n",
       " -96212.0,\n",
       " 53335.0,\n",
       " -150408.0,\n",
       " 196525.0,\n",
       " -240446.0,\n",
       " 206356.0,\n",
       " -63790.0,\n",
       " -549.0,\n",
       " -3539.0,\n",
       " -469.0,\n",
       " 821.0,\n",
       " 6458.0,\n",
       " -18035.0,\n",
       " 14651.0,\n",
       " -2330.0,\n",
       " -1521.0,\n",
       " 1025.0,\n",
       " -1338.0,\n",
       " 4363.0,\n",
       " -9508.0,\n",
       " 10462.0,\n",
       " -8204.0,\n",
       " 8492.0,\n",
       " -2719.0,\n",
       " -12907.0,\n",
       " 24773.0,\n",
       " -33585.0,\n",
       " 31144.0,\n",
       " -11876.0,\n",
       " 442.0,\n",
       " -279.0,\n",
       " 315.0,\n",
       " 174.0,\n",
       " -937.0,\n",
       " 807.0,\n",
       " -222.0,\n",
       " 568.0,\n",
       " -681.0,\n",
       " -400.0,\n",
       " 51.0,\n",
       " 947.0,\n",
       " 1428.0,\n",
       " -4959.0,\n",
       " 4711.0,\n",
       " -833.0,\n",
       " -288.0,\n",
       " -5687.0,\n",
       " 354773.0,\n",
       " -648004.0,\n",
       " 132208.0,\n",
       " 44382.0,\n",
       " 460649.0,\n",
       " -391715.0,\n",
       " -151658.0,\n",
       " 432557.0,\n",
       " 265153.0,\n",
       " -1589315.0,\n",
       " 2284269.0,\n",
       " -2585027.0,\n",
       " 2180190.0,\n",
       " -708125.0,\n",
       " -172514.0,\n",
       " 3475.0,\n",
       " 39270.0,\n",
       " 184854.0,\n",
       " -130853.0,\n",
       " 585.0,\n",
       " 236906.0,\n",
       " -695962.0,\n",
       " 1469165.0,\n",
       " -2513911.0,\n",
       " 2235660.0,\n",
       " 728339.0,\n",
       " -4366166.0,\n",
       " 4734279.0,\n",
       " -2761488.0,\n",
       " 1892401.0,\n",
       " -1053414.0,\n",
       " -800252.0,\n",
       " 1808600.0,\n",
       " -1460311.0,\n",
       " 762949.0,\n",
       " 36440.0,\n",
       " -1161829.0,\n",
       " 2127900.0,\n",
       " -2104114.0,\n",
       " 887858.0,\n",
       " 324663.0,\n",
       " -143069.0,\n",
       " -380140.0,\n",
       " -76325.0,\n",
       " 832530.0,\n",
       " -1167736.0,\n",
       " 1276008.0,\n",
       " -1155758.0,\n",
       " 895031.0,\n",
       " -615178.0,\n",
       " -521339.0,\n",
       " 1491515.0,\n",
       " -943426.0,\n",
       " 310907.0,\n",
       " -174497.0,\n",
       " 100028.0,\n",
       " 252355.0,\n",
       " -1277845.0,\n",
       " 2114391.0,\n",
       " -2339843.0,\n",
       " 1997219.0,\n",
       " -1000530.0,\n",
       " 86241.0,\n",
       " 238029.0,\n",
       " -82236.0,\n",
       " -74696.0,\n",
       " 413807.0,\n",
       " -1188268.0,\n",
       " 1221876.0,\n",
       " -335108.0,\n",
       " -165718.0,\n",
       " 45953.0,\n",
       " 187176.0,\n",
       " 230478.0,\n",
       " -1502715.0,\n",
       " 2220783.0,\n",
       " -1967322.0,\n",
       " 1211102.0,\n",
       " -199886.0,\n",
       " -300518.0,\n",
       " 247809.0,\n",
       " -98533.0,\n",
       " 34134.0,\n",
       " -49703.0,\n",
       " 55576.0,\n",
       " -17594.0,\n",
       " -116182.0,\n",
       " 315104.0,\n",
       " -69940.0,\n",
       " -720598.0,\n",
       " 988964.0,\n",
       " -552659.0,\n",
       " 389641.0,\n",
       " -882908.0,\n",
       " 1047820.0,\n",
       " -269681.0,\n",
       " -420345.0,\n",
       " 358457.0,\n",
       " 70404.0,\n",
       " -338803.0,\n",
       " 522647.0,\n",
       " -588939.0,\n",
       " 666117.0,\n",
       " -1430099.0,\n",
       " 2014361.0,\n",
       " -1704942.0,\n",
       " 1138482.0,\n",
       " -346191.0,\n",
       " -527302.0,\n",
       " 819236.0,\n",
       " -639140.0,\n",
       " 597869.0,\n",
       " -589257.0,\n",
       " 322570.0,\n",
       " -123245.0,\n",
       " 69579.0,\n",
       " 98522.0,\n",
       " -241986.0,\n",
       " 799520.0,\n",
       " -1876212.0,\n",
       " 1984338.0,\n",
       " -1126993.0,\n",
       " 613746.0,\n",
       " -122666.0,\n",
       " -395018.0,\n",
       " 127740.0,\n",
       " 163140.0,\n",
       " 96815.0,\n",
       " -158982.0,\n",
       " 173421.0]"
      ]
     },
     "execution_count": 111,
     "metadata": {},
     "output_type": "execute_result"
    }
   ],
   "source": []
  },
  {
   "cell_type": "code",
   "execution_count": null,
   "metadata": {
    "collapsed": true
   },
   "outputs": [],
   "source": []
  }
 ],
 "metadata": {
  "kernelspec": {
   "display_name": "Python 3",
   "language": "python",
   "name": "python3"
  },
  "language_info": {
   "codemirror_mode": {
    "name": "ipython",
    "version": 3
   },
   "file_extension": ".py",
   "mimetype": "text/x-python",
   "name": "python",
   "nbconvert_exporter": "python",
   "pygments_lexer": "ipython3",
   "version": "3.5.2"
  }
 },
 "nbformat": 4,
 "nbformat_minor": 0
}
